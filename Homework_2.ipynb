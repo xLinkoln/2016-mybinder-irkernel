{
 "cells": [
  {
   "cell_type": "markdown",
   "metadata": {},
   "source": [
    "# Homework 2 (Deadline: 8.04.2018 23:59)\n",
    "###### No cheating policy. \n",
    "###### This file is for ATS_2018 students' use only. No part of this file may be shared with other people or stored/published in Internet (inc. Facebook,and other social media platforms). "
   ]
  },
  {
   "cell_type": "markdown",
   "metadata": {},
   "source": [
    "## Functions"
   ]
  },
  {
   "cell_type": "markdown",
   "metadata": {},
   "source": [
    "* Please extend the class Matrix (discussed during lab) with method Mlt. Mlt method should return the result of multiplication of two matrixes. Both matrixes are square matrixes of the same size."
   ]
  },
  {
   "cell_type": "code",
   "execution_count": null,
   "metadata": {
    "collapsed": true
   },
   "outputs": [],
   "source": []
  },
  {
   "cell_type": "markdown",
   "metadata": {},
   "source": [
    "* Implement two-dimenstional Rosenbrock function (https://en.wikipedia.org/wiki/Rosenbrock_function), then test it on input data stored in variable x. Use two approaches in your tests:np.apply_along_axis and for loop."
   ]
  },
  {
   "cell_type": "code",
   "execution_count": 21,
   "metadata": {
    "collapsed": false
   },
   "outputs": [],
   "source": [
    "import numpy as np\n",
    "x = np.random.normal(size=(10000, 2))\n"
   ]
  },
  {
   "cell_type": "markdown",
   "metadata": {},
   "source": [
    "## Classes"
   ]
  },
  {
   "cell_type": "markdown",
   "metadata": {},
   "source": [
    "* Please define Employee class , Driver class,Soldier class and Teacher class . Please decide, which class is a base class. Each class should contain following attributes: \n",
    " - name,\n",
    " - surname,\n",
    " - age, \n",
    " - salary.<br>\n",
    "and methods:<br>\n",
    "Info(): prints infor about the name,surname,age and salary of given employee.\n",
    "\n",
    "* Class Soldier has\n",
    "    - two extra fields: rank {Private,Corporal,General},years_in_army.\n",
    "    - extra method:<br> - GiveMePromotion: where Private->Corporal,Corporal->General, General->General\n",
    "    <br>- GiveMeRise: salary *mlt where mlt_Private=1.2,mlt_Corporal=1.5,mlt_General=1.8<br>\n",
    "* Class Driver has\n",
    "    - two extra fields: car_brand,driving_categories - list of the obtained driving categories from A,B,B,D\n",
    "    - extra method:<br> -AddCategory: add driving category\n",
    "       <br> -GiveMeRise: salary *(1+(number of obtained driving categories)/4)\n",
    "\n",
    "* Class Teacher has\n",
    "    - one extra field:school_type {kindergarten,primary,highschool,college}\n",
    "    - extra method:<br> -GiveMeRise: salary * (1+[random number  U(0,1)])\n",
    "* Please create two objects of each class and add the to the list. Change the salary of all employees in the list.       "
   ]
  },
  {
   "cell_type": "code",
   "execution_count": null,
   "metadata": {
    "collapsed": true
   },
   "outputs": [],
   "source": []
  },
  {
   "cell_type": "markdown",
   "metadata": {},
   "source": [
    "## Pandas\n",
    "Using the marriage dataset solve the following exercises:"
   ]
  },
  {
   "cell_type": "code",
   "execution_count": null,
   "metadata": {
    "collapsed": true
   },
   "outputs": [],
   "source": [
    "import numpy as np\n",
    "import pandas as pd\n",
    "import statsmodels.api as sm\n",
    "# http://www.statsmodels.org/dev/install.html\n",
    "data = sm.datasets.fair.load_pandas()\n",
    "marr = data.exog"
   ]
  },
  {
   "cell_type": "markdown",
   "metadata": {},
   "source": [
    "* Show the first three and the last three rows using display function (remember to import it)"
   ]
  },
  {
   "cell_type": "code",
   "execution_count": null,
   "metadata": {
    "collapsed": true
   },
   "outputs": [],
   "source": []
  },
  {
   "cell_type": "markdown",
   "metadata": {},
   "source": [
    "* Create a new dataset which contains all the original dataset's columns except occupation."
   ]
  },
  {
   "cell_type": "code",
   "execution_count": null,
   "metadata": {
    "collapsed": true
   },
   "outputs": [],
   "source": []
  },
  {
   "cell_type": "markdown",
   "metadata": {},
   "source": [
    "* Check how many unique values the children variable has. Display summary statistics about this variable."
   ]
  },
  {
   "cell_type": "code",
   "execution_count": null,
   "metadata": {
    "collapsed": true
   },
   "outputs": [],
   "source": []
  },
  {
   "cell_type": "markdown",
   "metadata": {},
   "source": [
    "* Create a variable containing natural logarithm of age."
   ]
  },
  {
   "cell_type": "code",
   "execution_count": null,
   "metadata": {
    "collapsed": true
   },
   "outputs": [],
   "source": []
  },
  {
   "cell_type": "markdown",
   "metadata": {},
   "source": [
    "* Create a discrete variable for education which denotes education level (instead of years of education) in ascending order."
   ]
  },
  {
   "cell_type": "code",
   "execution_count": null,
   "metadata": {
    "collapsed": true
   },
   "outputs": [],
   "source": []
  },
  {
   "cell_type": "markdown",
   "metadata": {},
   "source": [
    "* Using numpy draw a random income from log-normal distribution for each observation. Use such parameters that income looks credible taking current market conditions into account and that expected value for income increases with years of education."
   ]
  },
  {
   "cell_type": "code",
   "execution_count": null,
   "metadata": {
    "collapsed": true
   },
   "outputs": [],
   "source": []
  },
  {
   "cell_type": "markdown",
   "metadata": {},
   "source": [
    "* For people who have: no children, 1 child, 2 children and so on (make sure you display all values) select and display first 5 rows of people who are over 40 years old. Use query and @ operator.\n",
    "\n",
    "Tip: You can iterate over marr.children.unique()"
   ]
  },
  {
   "cell_type": "code",
   "execution_count": null,
   "metadata": {
    "collapsed": true
   },
   "outputs": [],
   "source": []
  },
  {
   "cell_type": "markdown",
   "metadata": {},
   "source": [
    "* Group observations by variable \"rate\" and calculate income's mean and standard deviation for each of the groups.\n"
   ]
  },
  {
   "cell_type": "code",
   "execution_count": null,
   "metadata": {
    "collapsed": true
   },
   "outputs": [],
   "source": []
  },
  {
   "cell_type": "markdown",
   "metadata": {},
   "source": [
    "* For every row assign the mean income of people who have the same values of rate and level of education (defined earlier)."
   ]
  },
  {
   "cell_type": "code",
   "execution_count": null,
   "metadata": {
    "collapsed": true
   },
   "outputs": [],
   "source": []
  },
  {
   "cell_type": "markdown",
   "metadata": {},
   "source": [
    "* For every row calculate the difference between income and mean income for a group of people who have the same values of rate and level of education (defined earlier). Do it in one statement (one line, no semicolon) not using the variable created earlier."
   ]
  },
  {
   "cell_type": "code",
   "execution_count": null,
   "metadata": {
    "collapsed": true
   },
   "outputs": [],
   "source": []
  }
 ],
 "metadata": {
  "kernelspec": {
   "display_name": "Python 3",
   "language": "python",
   "name": "python3"
  },
  "language_info": {
   "codemirror_mode": {
    "name": "ipython",
    "version": 3
   },
   "file_extension": ".py",
   "mimetype": "text/x-python",
   "name": "python",
   "nbconvert_exporter": "python",
   "pygments_lexer": "ipython3",
   "version": "3.6.0"
  }
 },
 "nbformat": 4,
 "nbformat_minor": 2
}
